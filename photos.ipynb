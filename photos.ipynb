{
 "cells": [
  {
   "cell_type": "code",
   "execution_count": 3,
   "id": "32a06b41-17f1-4ec4-85fe-85f15c3ec98e",
   "metadata": {},
   "outputs": [],
   "source": [
    "src_folder = \"/Volumes/Extreme SSD/Groom\"  #Folder with all folders of images\n",
    "dest_folder = \"/Volumes/Extreme SSD/CombinedGroom\"  #Path for combined photos that are renamed."
   ]
  },
  {
   "cell_type": "code",
   "execution_count": null,
   "id": "eb5530ed-d352-46da-ae50-0c0caabec842",
   "metadata": {},
   "outputs": [],
   "source": [
    "import os\n",
    "import shutil\n",
    "import subprocess\n",
    "from datetime import datetime\n",
    "\n",
    "def get_exif_date(photo_path):\n",
    "    # Extract EXIF date using exiftool\n",
    "    try:\n",
    "        result = subprocess.check_output(['exiftool', '-DateTimeOriginal', '-s3', photo_path], universal_newlines=True).strip()\n",
    "        if result:\n",
    "            return datetime.strptime(result, '%Y:%m:%d %H:%M:%S').strftime('%Y_%m_%d_%H_%M_%S')\n",
    "    except Exception as e:\n",
    "        print(f\"Error reading EXIF from {photo_path}: {e}\")\n",
    "    return None\n",
    "\n",
    "def copy_photos(src_folder, dest_folder):\n",
    "    # Iterate over all files in source folder recursively\n",
    "    for foldername, subfolders, filenames in os.walk(src_folder):\n",
    "        for filename in filenames:\n",
    "            file_path = os.path.join(foldername, filename)\n",
    "            # Get EXIF date, if available\n",
    "            date_taken = get_exif_date(file_path)\n",
    "            \n",
    "            # Create a new filename based on EXIF date and original name to avoid name clashes\n",
    "            if date_taken:\n",
    "                new_filename = date_taken + \"_\" + filename\n",
    "            else:\n",
    "                new_filename = filename\n",
    "\n",
    "            # Define destination path\n",
    "            dest_path = os.path.join(dest_folder, new_filename)\n",
    "\n",
    "            # Copy the file to the destination\n",
    "            shutil.copy2(file_path, dest_path)  # copy2 preserves file metadata\n",
    "\n",
    "\n",
    "\n",
    "# Ensure the destination folder exists\n",
    "if not os.path.exists(dest_folder):\n",
    "    os.makedirs(dest_folder)\n",
    "\n",
    "copy_photos(src_folder, dest_folder)\n",
    "print(\"Photos copied successfully!\")\n"
   ]
  },
  {
   "cell_type": "code",
   "execution_count": null,
   "id": "170622a5-61f1-4d80-87f1-ff58278cab9c",
   "metadata": {},
   "outputs": [],
   "source": []
  }
 ],
 "metadata": {
  "kernelspec": {
   "display_name": "Python 3 (ipykernel)",
   "language": "python",
   "name": "python3"
  },
  "language_info": {
   "codemirror_mode": {
    "name": "ipython",
    "version": 3
   },
   "file_extension": ".py",
   "mimetype": "text/x-python",
   "name": "python",
   "nbconvert_exporter": "python",
   "pygments_lexer": "ipython3",
   "version": "3.11.5"
  }
 },
 "nbformat": 4,
 "nbformat_minor": 5
}
